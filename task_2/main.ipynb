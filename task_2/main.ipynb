{
 "cells": [
  {
   "cell_type": "code",
   "execution_count": 12,
   "metadata": {},
   "outputs": [
    {
     "name": "stdout",
     "output_type": "stream",
     "text": [
      "docker: Error response from daemon: Conflict. The container name \"/mongodb\" is already in use by container \"fc7bd83e36bf1964730b4bf93a07b274e278fe4560e9160f1ca214f884037f5d\". You have to remove (or rename) that container to be able to reuse that name.\n",
      "See 'docker run --help'.\n"
     ]
    }
   ],
   "source": [
    "! docker run -d -p 27017:27017 --name mongodb mongo"
   ]
  },
  {
   "cell_type": "code",
   "execution_count": 14,
   "metadata": {},
   "outputs": [],
   "source": [
    "from pymongo import MongoClient\n",
    "\n",
    "\n",
    "client = MongoClient('localhost', 27017)\n",
    "db = client['mongodb']\n",
    "collection = db['mycollection']"
   ]
  },
  {
   "cell_type": "code",
   "execution_count": 53,
   "metadata": {},
   "outputs": [],
   "source": [
    "def create_document(document):\n",
    "    result = collection.insert_one(document)\n",
    "    print(f'_id: {result.inserted_id}')\n",
    "\n",
    "def read_documents(query={}):\n",
    "    documents = collection.find(query)\n",
    "    result = [doc for doc in documents]\n",
    "\n",
    "    return result\n",
    "\n",
    "def update_document(query, update):\n",
    "    result = collection.update_one(query, {'$set': update})\n",
    "    result = [doc for doc in collection.find(query)]\n",
    "\n",
    "    return result\n",
    "\n",
    "def delete_document(query):\n",
    "    result = collection.delete_one(query)\n",
    "    print(f'Deleted {result.deleted_count} document.')\n",
    "\n",
    "\n",
    "def delete_all_documents():\n",
    "    collection.delete_many({})"
   ]
  },
  {
   "cell_type": "code",
   "execution_count": 54,
   "metadata": {},
   "outputs": [
    {
     "name": "stdout",
     "output_type": "stream",
     "text": [
      "_id: 6745b28bc41ee2bcfbd699ea\n",
      "_id: 6745b28bc41ee2bcfbd699eb\n",
      "_id: 6745b28bc41ee2bcfbd699ec\n"
     ]
    }
   ],
   "source": [
    "create_document({'name': 'barsik', 'age': 3, 'features': [\"ходить в капці\", \"дає себе гладити\", \"рудий\"]})\n",
    "create_document({'name': 'vgika', 'age': 4, 'features': [\"дає себе гладити\", \"рудий\", \"скажена\"]})\n",
    "create_document({'name': 'ldinka', 'age': 3, 'features': [\"ходить в капці\", \"дає себе гладити\", \"клянчить їжу\"]})"
   ]
  },
  {
   "cell_type": "code",
   "execution_count": 55,
   "metadata": {},
   "outputs": [
    {
     "data": {
      "text/plain": [
       "[{'_id': ObjectId('6745b28bc41ee2bcfbd699ea'),\n",
       "  'name': 'barsik',\n",
       "  'age': 3,\n",
       "  'features': ['ходить в капці', 'дає себе гладити', 'рудий']},\n",
       " {'_id': ObjectId('6745b28bc41ee2bcfbd699eb'),\n",
       "  'name': 'vgika',\n",
       "  'age': 4,\n",
       "  'features': ['дає себе гладити', 'рудий', 'скажена']},\n",
       " {'_id': ObjectId('6745b28bc41ee2bcfbd699ec'),\n",
       "  'name': 'ldinka',\n",
       "  'age': 3,\n",
       "  'features': ['ходить в капці', 'дає себе гладити', 'клянчить їжу']}]"
      ]
     },
     "execution_count": 55,
     "metadata": {},
     "output_type": "execute_result"
    }
   ],
   "source": [
    "read_documents()"
   ]
  },
  {
   "cell_type": "code",
   "execution_count": 56,
   "metadata": {},
   "outputs": [
    {
     "data": {
      "text/plain": [
       "[{'_id': ObjectId('6745b28bc41ee2bcfbd699eb'),\n",
       "  'name': 'vgika',\n",
       "  'age': 4,\n",
       "  'features': ['дає себе гладити', 'рудий', 'скажена']}]"
      ]
     },
     "execution_count": 56,
     "metadata": {},
     "output_type": "execute_result"
    }
   ],
   "source": [
    "read_documents({'name': 'vgika'})"
   ]
  },
  {
   "cell_type": "code",
   "execution_count": 57,
   "metadata": {},
   "outputs": [
    {
     "data": {
      "text/plain": [
       "[{'_id': ObjectId('6745b28bc41ee2bcfbd699eb'),\n",
       "  'name': 'vgika',\n",
       "  'age': 5,\n",
       "  'features': ['дає себе гладити', 'рудий', 'скажена']}]"
      ]
     },
     "execution_count": 57,
     "metadata": {},
     "output_type": "execute_result"
    }
   ],
   "source": [
    "update_document({'name': 'vgika'}, {'age': 5})"
   ]
  },
  {
   "cell_type": "code",
   "execution_count": 58,
   "metadata": {},
   "outputs": [
    {
     "data": {
      "text/plain": [
       "[{'_id': ObjectId('6745b28bc41ee2bcfbd699eb'),\n",
       "  'name': 'vgika',\n",
       "  'age': 5,\n",
       "  'features': ['дає себе гладити', 'рудий', 'скажена', 'нова фіча']}]"
      ]
     },
     "execution_count": 58,
     "metadata": {},
     "output_type": "execute_result"
    }
   ],
   "source": [
    "features = read_documents({'name': 'vgika'})[0]['features']\n",
    "update_document({'name': 'vgika'}, {'features': features + ['нова фіча']})"
   ]
  },
  {
   "cell_type": "code",
   "execution_count": 59,
   "metadata": {},
   "outputs": [
    {
     "name": "stdout",
     "output_type": "stream",
     "text": [
      "Deleted 1 document.\n"
     ]
    }
   ],
   "source": [
    "delete_document({'name': 'barsik'})"
   ]
  },
  {
   "cell_type": "code",
   "execution_count": 60,
   "metadata": {},
   "outputs": [
    {
     "data": {
      "text/plain": [
       "[{'_id': ObjectId('6745b28bc41ee2bcfbd699eb'),\n",
       "  'name': 'vgika',\n",
       "  'age': 5,\n",
       "  'features': ['дає себе гладити', 'рудий', 'скажена', 'нова фіча']},\n",
       " {'_id': ObjectId('6745b28bc41ee2bcfbd699ec'),\n",
       "  'name': 'ldinka',\n",
       "  'age': 3,\n",
       "  'features': ['ходить в капці', 'дає себе гладити', 'клянчить їжу']}]"
      ]
     },
     "execution_count": 60,
     "metadata": {},
     "output_type": "execute_result"
    }
   ],
   "source": [
    "read_documents()"
   ]
  },
  {
   "cell_type": "code",
   "execution_count": 61,
   "metadata": {},
   "outputs": [],
   "source": [
    "delete_all_documents()"
   ]
  },
  {
   "cell_type": "code",
   "execution_count": 62,
   "metadata": {},
   "outputs": [
    {
     "data": {
      "text/plain": [
       "[]"
      ]
     },
     "execution_count": 62,
     "metadata": {},
     "output_type": "execute_result"
    }
   ],
   "source": [
    "read_documents()"
   ]
  }
 ],
 "metadata": {
  "kernelspec": {
   "display_name": "venv",
   "language": "python",
   "name": "python3"
  },
  "language_info": {
   "codemirror_mode": {
    "name": "ipython",
    "version": 3
   },
   "file_extension": ".py",
   "mimetype": "text/x-python",
   "name": "python",
   "nbconvert_exporter": "python",
   "pygments_lexer": "ipython3",
   "version": "3.11.3"
  }
 },
 "nbformat": 4,
 "nbformat_minor": 2
}
